{
 "cells": [
  {
   "cell_type": "code",
   "execution_count": 1,
   "metadata": {},
   "outputs": [],
   "source": [
    "#import real_2_21_19\n",
    "import re\n",
    "from collections import Counter"
   ]
  },
  {
   "cell_type": "code",
   "execution_count": 2,
   "metadata": {},
   "outputs": [
    {
     "name": "stdout",
     "output_type": "stream",
     "text": [
      "What is the course name?\n",
      "MAT17a\n",
      "What is the course name?\n",
      "Mat17b\n",
      "What is the course name?\n",
      "mat17c\n",
      "What is the course name?\n",
      "bis2a\n",
      "What is the course name?\n",
      "bis2b\n",
      "What is the course name?\n",
      "bis2c\n",
      "What is the course name?\n",
      "\n",
      "['BIS002C', 'BIS002B', 'MAT017C', 'MAT017B', 'BIS002A', 'MAT017A']\n"
     ]
    }
   ],
   "source": [
    "i = 1 \n",
    "course_list = []\n",
    "course_set = set([])\n",
    "while i >0:\n",
    "    course = input('What is the course name?\\n')\n",
    "    if len(course) >= 5:\n",
    "        course = course.upper()\n",
    "        course_list.append(course)\n",
    "    else:\n",
    "        break\n",
    "course_set = set(course_list)\n",
    "#print(course_set)\n",
    "b = 0\n",
    "num = 0\n",
    "j = 0\n",
    "new_course_set = []\n",
    "for each in course_set:\n",
    "    num = 0\n",
    "    while b < len(each):\n",
    "        if each[b].isdigit():\n",
    "            #print(b)\n",
    "            break\n",
    "        b += 1\n",
    "    for thing in each:\n",
    "        if thing.isdigit():\n",
    "            num += 1\n",
    "    #print(num)\n",
    "    if num == 2:\n",
    "        new_each = each[:b] + '0'+ each[b:]\n",
    "        new_course_set.append(new_each)\n",
    "    elif num == 1:\n",
    "        new_each = each[:b] + '00'+ each[b:]\n",
    "        new_course_set.append(new_each)\n",
    "    else:\n",
    "        new_course_set.append(each)\n",
    "print(new_course_set)"
   ]
  },
  {
   "cell_type": "code",
   "execution_count": 3,
   "metadata": {},
   "outputs": [],
   "source": [
    "possible_major = []\n",
    "for j in new_course_set:\n",
    "    with open('REAL.py','r') as toRead:\n",
    "        for i in toRead:\n",
    "            i = re.sub(r'\\n','',i)\n",
    "        #print(i)\n",
    "        #print(type(i))\n",
    "            if len(re.findall(j,i)) != 0:\n",
    "                for k in range(len(i)):\n",
    "                    if i[k] == '[':\n",
    "                    #print(i[:k-2])\n",
    "                        possible_major.append(i[:k-2])\n",
    "#print(possible_major)\n"
   ]
  },
  {
   "cell_type": "code",
   "execution_count": 4,
   "metadata": {},
   "outputs": [
    {
     "name": "stdout",
     "output_type": "stream",
     "text": [
      "What is the minimum classes you require for the fit? (Min is 1)\n",
      "2\n",
      "[('Animal Science &amp; Management', 6), ('Cell Biology; Molecular &amp; Cellular Biology', 6), ('Biological Sciences', 6), ('Microbiology &amp; Molecular Genetics', 6), ('Evolution &amp; Ecology', 6), ('Anthropology ', 6), ('Global Disease Biology', 6), ('Marine &amp; Coastal Science', 6), ('Entomology', 6), ('Biochemistry &amp; Molecular Biology; Molecular &amp; Cellular Biology', 6), ('Cognitive Science', 6), (' Neurobiology, Physiology, &amp; Behavior ', 6), ('Animal Biology', 6), ('Environmental Toxicology', 6), ('Plant Biology', 6), ('Pharmaceutical Chemistry; Chemistry', 6), ('Genetics &amp; Genomics; Molecular &amp; Cellular Biology', 6), ('Biotechnology', 5), ('Animal Science', 5), ('Ecological Management &amp; Restoration', 5), ('Applied Mathematics; Mathematics', 5), ('Environmental Science &amp; Management', 5), ('Psychology', 5), ('Chemistry', 4), ('Agricultural &amp; Environmental Education', 4), ('Plant Sciences', 4), ('Environmental Policy Analysis &amp; Planning', 4), (' Biological Systems Engineering; Agricultural &amp; Environmental Sciences, Engineering ', 3), ('Mathematical &amp; Scientific Computation; Mathematics', 3), (' Wildlife, Fish, &amp; Conservation Biology ', 3), ('Computer Science; Letters &amp; Science', 3), ('Statistics', 3), ('Biochemical Engineering; Engineering', 3), ('Mathematics', 3), ('Mathematical Analytics &amp; Operations Research; Mathematics', 3), ('Biomedical Engineering; Engineering', 3), ('Nutrition Science', 3), ('Environmental Horticulture &amp; Urban Forestry', 2), ('Hydrology', 2), ('Clinical Nutrition', 2), ('Managerial Economics', 2), ('International Agricultural Development', 2), ('Sustainable Agriculture &amp; Food Systems', 2)]\n"
     ]
    }
   ],
   "source": [
    "dict={}\n",
    "good_fit=int(input('What is the minimum classes you require for the fit? (Min is 1)\\n'))\n",
    "set_possible_major = set(possible_major)\n",
    "for i in set_possible_major:\n",
    "    j = possible_major.count(i)\n",
    "    if j >= good_fit:\n",
    "        dict.update({i:j})\n",
    "x = Counter(dict)\n",
    "print(x.most_common())\n"
   ]
  },
  {
   "cell_type": "code",
   "execution_count": 5,
   "metadata": {},
   "outputs": [],
   "source": [
    "with open('C:/Users/Elaine/Desktop/course_to_major_result.txt','w+') as toWrite:\n",
    "    for i in x.most_common():\n",
    "        text = str(i)[1:-1]\n",
    "        text = re.sub(',',' ',text)\n",
    "        text = re.sub(\"'\",'',text)\n",
    "        sep = [i[:-1],i[-1]]\n",
    "        toWrite.write(text)\n",
    "        toWrite.write('\\n')"
   ]
  },
  {
   "cell_type": "code",
   "execution_count": null,
   "metadata": {},
   "outputs": [],
   "source": []
  },
  {
   "cell_type": "code",
   "execution_count": null,
   "metadata": {},
   "outputs": [],
   "source": []
  }
 ],
 "metadata": {
  "kernelspec": {
   "display_name": "Python 3",
   "language": "python",
   "name": "python3"
  },
  "language_info": {
   "codemirror_mode": {
    "name": "ipython",
    "version": 3
   },
   "file_extension": ".py",
   "mimetype": "text/x-python",
   "name": "python",
   "nbconvert_exporter": "python",
   "pygments_lexer": "ipython3",
   "version": "3.7.1"
  }
 },
 "nbformat": 4,
 "nbformat_minor": 2
}
