{
 "cells": [
  {
   "cell_type": "code",
   "execution_count": 29,
   "metadata": {},
   "outputs": [],
   "source": [
    "#import real_2_21_19\n",
    "import re\n",
    "from collections import Counter"
   ]
  },
  {
   "cell_type": "code",
   "execution_count": 31,
   "metadata": {},
   "outputs": [
    {
     "name": "stdout",
     "output_type": "stream",
     "text": [
      "Input the file name, without (.txt)testtest\n",
      "MAT171, ECN001A, ECS020, ECS050\n",
      "['ECS050', 'ECN001A', 'MAT171', 'ECS020']\n"
     ]
    }
   ],
   "source": [
    "importfile = input('Input the file name, without (.txt)')\n",
    "course_list = []\n",
    "with open('C:/Users/Elaine/Desktop/'+importfile+'.txt', 'r') as toRead:\n",
    "    for i in toRead:\n",
    "        print(i)\n",
    "        infor = i.split(',')\n",
    "        for i in infor:\n",
    "            i = re.sub(' ','',i)\n",
    "            #print(i)\n",
    "            course_list.append(i)\n",
    "course_set = set(course_list)\n",
    "#print(course_set)\n",
    "b = 0\n",
    "num = 0\n",
    "j = 0\n",
    "new_course_set = []\n",
    "for each in course_set:\n",
    "    num = 0\n",
    "    while b < len(each):\n",
    "        if each[b].isdigit():\n",
    "            #print(b)\n",
    "            break\n",
    "        b += 1\n",
    "    for thing in each:\n",
    "        if thing.isdigit():\n",
    "            num += 1\n",
    "    #print(num)\n",
    "    if num == 2:\n",
    "        new_each = each[:b] + '0'+ each[b:]\n",
    "        new_course_set.append(new_each)\n",
    "    elif num == 1:\n",
    "        new_each = each[:b] + '00'+ each[b:]\n",
    "        new_course_set.append(new_each)\n",
    "    else:\n",
    "        new_course_set.append(each)\n",
    "print(new_course_set)"
   ]
  },
  {
   "cell_type": "code",
   "execution_count": 32,
   "metadata": {},
   "outputs": [],
   "source": [
    "possible_major = []\n",
    "for j in new_course_set:\n",
    "    with open('REAL.py','r') as toRead:\n",
    "        for i in toRead:\n",
    "            i = re.sub(r'\\n','',i)\n",
    "        #print(i)\n",
    "        #print(type(i))\n",
    "            if len(re.findall(j,i)) != 0:\n",
    "                for k in range(len(i)):\n",
    "                    if i[k] == '[':\n",
    "                    #print(i[:k-2])\n",
    "                        possible_major.append(i[:k-2])\n",
    "#print(possible_major)\n"
   ]
  },
  {
   "cell_type": "code",
   "execution_count": 33,
   "metadata": {},
   "outputs": [
    {
     "name": "stdout",
     "output_type": "stream",
     "text": [
      "[('Cognitive Science', 2), ('Computer Science &amp; Engineering; Engineering', 2), ('Computer Science; Letters &amp; Science', 2), ('Biotechnology', 2)]\n"
     ]
    }
   ],
   "source": [
    "dict={}\n",
    "good_fit=int(input('What is the minimum classes you require for the fit? (Min is 1)\\n'))\n",
    "set_possible_major = set(possible_major)\n",
    "for i in set_possible_major:\n",
    "    j = possible_major.count(i)\n",
    "    if j > good_fit:\n",
    "        dict.update({i:j})\n",
    "x = Counter(dict)\n",
    "print(x.most_common())\n"
   ]
  },
  {
   "cell_type": "code",
   "execution_count": 34,
   "metadata": {},
   "outputs": [],
   "source": [
    "with open('C:/Users/Elaine/Desktop/' + importfile + '_result.txt','w+') as toWrite:\n",
    "    for i in x.most_common():\n",
    "        text = str(i)[1:-1]\n",
    "        text = re.sub(',',' ',text)\n",
    "        text = re.sub(\"'\",'',text)\n",
    "        sep = [i[:-1],i[-1]]\n",
    "        toWrite.write(text)\n",
    "        toWrite.write('\\n')"
   ]
  },
  {
   "cell_type": "code",
   "execution_count": null,
   "metadata": {},
   "outputs": [],
   "source": []
  }
 ],
 "metadata": {
  "kernelspec": {
   "display_name": "Python 3",
   "language": "python",
   "name": "python3"
  },
  "language_info": {
   "codemirror_mode": {
    "name": "ipython",
    "version": 3
   },
   "file_extension": ".py",
   "mimetype": "text/x-python",
   "name": "python",
   "nbconvert_exporter": "python",
   "pygments_lexer": "ipython3",
   "version": "3.7.1"
  }
 },
 "nbformat": 4,
 "nbformat_minor": 2
}
